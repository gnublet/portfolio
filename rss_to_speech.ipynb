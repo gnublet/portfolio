{
 "cells": [
  {
   "cell_type": "code",
   "execution_count": 2,
   "metadata": {
    "collapsed": true
   },
   "outputs": [],
   "source": [
    "import feedparser\n",
    "from bs4 import BeautifulSoup"
   ]
  },
  {
   "cell_type": "code",
   "execution_count": 4,
   "metadata": {
    "collapsed": false
   },
   "outputs": [],
   "source": [
    "#llog = feedparser.parse('http://feeds.reuters.com/reuters/MostRead')\n",
    "llog = feedparser.parse('http://feeds.reuters.com/reuters/topNews')"
   ]
  },
  {
   "cell_type": "code",
   "execution_count": 5,
   "metadata": {
    "collapsed": true
   },
   "outputs": [],
   "source": [
    "summaries = []\n",
    "for i in range(len(llog.entries)):\n",
    "    content = llog.entries[i].summary\n",
    "    raw = BeautifulSoup(content, 'lxml').get_text(strip = True)#remove edge white spaces\n",
    "    summaries.append(raw)"
   ]
  },
  {
   "cell_type": "code",
   "execution_count": 6,
   "metadata": {
    "collapsed": false,
    "scrolled": true
   },
   "outputs": [
    {
     "data": {
      "text/plain": [
       "['WASHINGTON (Reuters) - U.S. President Donald Trump has shown little patience for dissent, but that trait is likely to be tested by his new national security adviser, Army Lieutenant General H.R. McMaster.',\n",
       " 'WASHINGTON (Reuters) - Some U.S. Department of Homeland Security employees in the Washington area and Philadelphia were unable to access some agency computer networks on Tuesday, according to three sources familiar with the matter.',\n",
       " 'NEW YORK (Reuters) - Provocative far-right commentator Milo Yiannopoulos resigned on Tuesday as a senior editor of the Breitbart News website after he was vilified and lost a book deal over comments that condoned certain intimate relations between men and young teenage boys.',\n",
       " 'WASHINGTON (Reuters) - China, in an early test of U.S. President Donald Trump, is nearly finished building almost two dozen structures on artificial islands in the South China Sea that appear designed to house long-range surface-to-air missiles, two U.S. officials told Reuters.',\n",
       " 'WASHINGTON (Reuters) - U.S. President Donald Trump delivered his first public condemnation of anti-Semitic incidents in the United States on Tuesday after a new spate of bomb threats to Jewish community centers around the country and vandalism in a Jewish cemetery.',\n",
       " 'TOKYO (Reuters) - Asian stocks edged up on Wednesday, joining a record-setting night for world markets as investors cheered upbeat factory activity in Europe and solid earnings on Wall Street.',\n",
       " '(Reuters) - Conservative U.S. Supreme Court justices on Tuesday expressed skepticism about reviving a lawsuit filed by the family of a Mexican teenager against a U.S. Border Patrol agent who fatally shot the 15-year-old from across the border in Texas in 2010.',\n",
       " 'NEW YORK (Reuters) - Facebook Inc  is in talks with Major League Baseball to live stream one game per week during the upcoming season, which could be a key win as the social media platform works to offer more live sports, according to two people familiar with the situation.',\n",
       " 'WASHINGTON (Reuters) - The new head of the U.S. Environmental Protection Agency said on Tuesday that America need not choose between jobs and the environment, in a nod to the energy industry, as the White House prepares executive orders that could come as soon as this week to roll back Obama-era regulation.',\n",
       " \"AUSTIN, Texas (Reuters) - A U.S. judge in Austin issued a preliminary injunction on Tuesday halting Texas' plan to cut Medicaid funding for Planned Parenthood, saying the state did not present evidence of a program violation that would warrant termination.\"]"
      ]
     },
     "execution_count": 6,
     "metadata": {},
     "output_type": "execute_result"
    }
   ],
   "source": [
    "summaries"
   ]
  },
  {
   "cell_type": "code",
   "execution_count": 7,
   "metadata": {
    "collapsed": false
   },
   "outputs": [
    {
     "data": {
      "text/plain": [
       "\"WASHINGTON (Reuters) - U.S. President Donald Trump has shown little patience for dissent, but that trait is likely to be tested by his new national security adviser, Army Lieutenant General H.R. McMaster.WASHINGTON (Reuters) - Some U.S. Department of Homeland Security employees in the Washington area and Philadelphia were unable to access some agency computer networks on Tuesday, according to three sources familiar with the matter.NEW YORK (Reuters) - Provocative far-right commentator Milo Yiannopoulos resigned on Tuesday as a senior editor of the Breitbart News website after he was vilified and lost a book deal over comments that condoned certain intimate relations between men and young teenage boys.WASHINGTON (Reuters) - China, in an early test of U.S. President Donald Trump, is nearly finished building almost two dozen structures on artificial islands in the South China Sea that appear designed to house long-range surface-to-air missiles, two U.S. officials told Reuters.WASHINGTON (Reuters) - U.S. President Donald Trump delivered his first public condemnation of anti-Semitic incidents in the United States on Tuesday after a new spate of bomb threats to Jewish community centers around the country and vandalism in a Jewish cemetery.TOKYO (Reuters) - Asian stocks edged up on Wednesday, joining a record-setting night for world markets as investors cheered upbeat factory activity in Europe and solid earnings on Wall Street.(Reuters) - Conservative U.S. Supreme Court justices on Tuesday expressed skepticism about reviving a lawsuit filed by the family of a Mexican teenager against a U.S. Border Patrol agent who fatally shot the 15-year-old from across the border in Texas in 2010.NEW YORK (Reuters) - Facebook Inc  is in talks with Major League Baseball to live stream one game per week during the upcoming season, which could be a key win as the social media platform works to offer more live sports, according to two people familiar with the situation.WASHINGTON (Reuters) - The new head of the U.S. Environmental Protection Agency said on Tuesday that America need not choose between jobs and the environment, in a nod to the energy industry, as the White House prepares executive orders that could come as soon as this week to roll back Obama-era regulation.AUSTIN, Texas (Reuters) - A U.S. judge in Austin issued a preliminary injunction on Tuesday halting Texas' plan to cut Medicaid funding for Planned Parenthood, saying the state did not present evidence of a program violation that would warrant termination.\""
      ]
     },
     "execution_count": 7,
     "metadata": {},
     "output_type": "execute_result"
    }
   ],
   "source": [
    "myspeech = ''\n",
    "for i in summaries:\n",
    "    myspeech+=i\n",
    "myspeech"
   ]
  },
  {
   "cell_type": "code",
   "execution_count": 17,
   "metadata": {
    "collapsed": false
   },
   "outputs": [
    {
     "data": {
      "text/plain": [
       "0"
      ]
     },
     "execution_count": 17,
     "metadata": {},
     "output_type": "execute_result"
    }
   ],
   "source": [
    "from gtts import gTTS\n",
    "import os\n",
    "tts = gTTS(text=myspeech, lang='en-uk')\n",
    "tts.save(\"good.mp3\")\n",
    "os.system(\"vlc good.mp3\")"
   ]
  },
  {
   "cell_type": "code",
   "execution_count": null,
   "metadata": {
    "collapsed": true
   },
   "outputs": [],
   "source": [
    "tts = "
   ]
  },
  {
   "cell_type": "code",
   "execution_count": null,
   "metadata": {
    "collapsed": true
   },
   "outputs": [],
   "source": []
  },
  {
   "cell_type": "code",
   "execution_count": null,
   "metadata": {
    "collapsed": true
   },
   "outputs": [],
   "source": []
  },
  {
   "cell_type": "code",
   "execution_count": null,
   "metadata": {
    "collapsed": true
   },
   "outputs": [],
   "source": []
  },
  {
   "cell_type": "code",
   "execution_count": null,
   "metadata": {
    "collapsed": true
   },
   "outputs": [],
   "source": []
  },
  {
   "cell_type": "code",
   "execution_count": null,
   "metadata": {
    "collapsed": true
   },
   "outputs": [],
   "source": []
  },
  {
   "cell_type": "code",
   "execution_count": null,
   "metadata": {
    "collapsed": true
   },
   "outputs": [],
   "source": []
  },
  {
   "cell_type": "code",
   "execution_count": null,
   "metadata": {
    "collapsed": true
   },
   "outputs": [],
   "source": []
  },
  {
   "cell_type": "code",
   "execution_count": null,
   "metadata": {
    "collapsed": true
   },
   "outputs": [],
   "source": []
  },
  {
   "cell_type": "code",
   "execution_count": null,
   "metadata": {
    "collapsed": true
   },
   "outputs": [],
   "source": []
  },
  {
   "cell_type": "code",
   "execution_count": null,
   "metadata": {
    "collapsed": true
   },
   "outputs": [],
   "source": []
  },
  {
   "cell_type": "code",
   "execution_count": null,
   "metadata": {
    "collapsed": true
   },
   "outputs": [],
   "source": []
  }
 ],
 "metadata": {
  "anaconda-cloud": {},
  "kernelspec": {
   "display_name": "Python [Root]",
   "language": "python",
   "name": "Python [Root]"
  },
  "language_info": {
   "codemirror_mode": {
    "name": "ipython",
    "version": 3
   },
   "file_extension": ".py",
   "mimetype": "text/x-python",
   "name": "python",
   "nbconvert_exporter": "python",
   "pygments_lexer": "ipython3",
   "version": "3.5.2"
  }
 },
 "nbformat": 4,
 "nbformat_minor": 0
}
